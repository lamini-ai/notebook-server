{
 "cells": [
  {
   "cell_type": "code",
   "execution_count": 1,
   "id": "4aabe86e",
   "metadata": {},
   "outputs": [],
   "source": [
    "from llama import LLM"
   ]
  },
  {
   "cell_type": "code",
   "execution_count": 7,
   "id": "68bc1fe3",
   "metadata": {},
   "outputs": [],
   "source": [
    "config = {\n",
    "    \"production\": {\n",
    "        \"key\": \"test_token\",\n",
    "        \"url\": \"http://api:8000\"\n",
    "    }\n",
    "}"
   ]
  },
  {
   "cell_type": "code",
   "execution_count": 3,
   "id": "b295bfb4",
   "metadata": {},
   "outputs": [],
   "source": [
    "from llama import Type, Context\n",
    "\n",
    "# Input\n",
    "class Question(Type):\n",
    "    question: str = Context(\"question about the function\")\n",
    "\n",
    "\n",
    "# Output\n",
    "class Answer(Type):\n",
    "    inputs: list = Context(\"list of inputs to the function\")\n",
    "    outputs: list = Context(\"list of outputs from the function\")\n",
    "    description: str = Context(\"function description in 2 to 5 lines\")"
   ]
  },
  {
   "cell_type": "code",
   "execution_count": 4,
   "id": "a1723dab",
   "metadata": {},
   "outputs": [],
   "source": [
    "class Function(Type):\n",
    "    name: str = Context(\"name of the function\")\n",
    "    code: str = Context(\"text for the python code in the function\")"
   ]
  },
  {
   "cell_type": "code",
   "execution_count": 5,
   "id": "4cbe068f",
   "metadata": {},
   "outputs": [],
   "source": [
    "# @title Preprocess data\n",
    "# @markdown This collects our llama functions into the type format.\n",
    "\n",
    "import llama\n",
    "from inspect import getmembers, getsource, isfunction, ismodule, isclass\n",
    "\n",
    "seen = set()\n",
    "def get_functions(module):\n",
    "    functions = set()\n",
    "    if module not in seen:\n",
    "        seen.add(module)\n",
    "        for name, member in getmembers(module):\n",
    "            if isfunction(member):\n",
    "                functions.add((name, getsource(member).strip()))\n",
    "            elif ismodule(member) and member.__name__.startswith(\"llama\"):\n",
    "                functions.update(get_functions(member))\n",
    "            elif isclass(member) and hasattr(member, '__module__') and f'{member.__module__}.{member.__qualname__}'.startswith(\"llama\"):\n",
    "                functions.update(get_functions(member))\n",
    "    return functions\n",
    "\n",
    "def make_function(function):\n",
    "    return Function(\n",
    "        name=function[0],\n",
    "        code=function[1]\n",
    "    )\n",
    "\n",
    "functions = [make_function(function) for function in get_functions(llama)]"
   ]
  },
  {
   "cell_type": "code",
   "execution_count": 8,
   "id": "24707d21",
   "metadata": {},
   "outputs": [
    {
     "ename": "APIError",
     "evalue": "API error 500",
     "output_type": "error",
     "traceback": [
      "\u001b[0;31m---------------------------------------------------------------------------\u001b[0m",
      "\u001b[0;31mAPIError\u001b[0m                                  Traceback (most recent call last)",
      "Cell \u001b[0;32mIn[8], line 6\u001b[0m\n\u001b[1;32m      4\u001b[0m llm\u001b[38;5;241m.\u001b[39madd_data(functions)\n\u001b[1;32m      5\u001b[0m question \u001b[38;5;241m=\u001b[39m \u001b[38;5;124m'\u001b[39m\u001b[38;5;124mLLM.__init__\u001b[39m\u001b[38;5;124m'\u001b[39m\n\u001b[0;32m----> 6\u001b[0m answer \u001b[38;5;241m=\u001b[39m \u001b[43mllm\u001b[49m\u001b[43m(\u001b[49m\u001b[38;5;28;43minput\u001b[39;49m\u001b[38;5;241;43m=\u001b[39;49m\u001b[43mQuestion\u001b[49m\u001b[43m(\u001b[49m\u001b[43mquestion\u001b[49m\u001b[38;5;241;43m=\u001b[39;49m\u001b[43mquestion\u001b[49m\u001b[43m)\u001b[49m\u001b[43m,\u001b[49m\u001b[43m \u001b[49m\u001b[43moutput_type\u001b[49m\u001b[38;5;241;43m=\u001b[39;49m\u001b[43mAnswer\u001b[49m\u001b[43m)\u001b[49m\n",
      "File \u001b[0;32m/usr/local/lib/python3.9/site-packages/llama/program/builder.py:45\u001b[0m, in \u001b[0;36mBuilder.__call__\u001b[0;34m(self, input, output_type, *args, **kwargs)\u001b[0m\n\u001b[1;32m     42\u001b[0m \u001b[38;5;28;01melse\u001b[39;00m:\n\u001b[1;32m     43\u001b[0m     value \u001b[38;5;241m=\u001b[39m \u001b[38;5;28mself\u001b[39m\u001b[38;5;241m.\u001b[39madd_model(\n\u001b[1;32m     44\u001b[0m         \u001b[38;5;28minput\u001b[39m, output_type, \u001b[38;5;241m*\u001b[39margs, \u001b[38;5;241m*\u001b[39m\u001b[38;5;241m*\u001b[39mkwargs)\n\u001b[0;32m---> 45\u001b[0m     \u001b[38;5;28;01mreturn\u001b[39;00m \u001b[43mrun\u001b[49m\u001b[43m(\u001b[49m\u001b[43mvalue\u001b[49m\u001b[43m)\u001b[49m\n",
      "File \u001b[0;32m/usr/local/lib/python3.9/site-packages/llama/program/value.py:176\u001b[0m, in \u001b[0;36mgen_value\u001b[0;34m(value)\u001b[0m\n\u001b[1;32m    175\u001b[0m \u001b[38;5;28;01mdef\u001b[39;00m \u001b[38;5;21mgen_value\u001b[39m(value: Value):\n\u001b[0;32m--> 176\u001b[0m     \u001b[43mvalue\u001b[49m\u001b[38;5;241;43m.\u001b[39;49m\u001b[43m_compute_value\u001b[49m\u001b[43m(\u001b[49m\u001b[43m)\u001b[49m\n\u001b[1;32m    177\u001b[0m     \u001b[38;5;28;01mreturn\u001b[39;00m value\u001b[38;5;241m.\u001b[39m_data\n",
      "File \u001b[0;32m/usr/local/lib/python3.9/site-packages/llama/program/value.py:75\u001b[0m, in \u001b[0;36mValue._compute_value\u001b[0;34m(self)\u001b[0m\n\u001b[1;32m     70\u001b[0m \u001b[38;5;28;01melse\u001b[39;00m:\n\u001b[1;32m     71\u001b[0m     params \u001b[38;5;241m=\u001b[39m {\n\u001b[1;32m     72\u001b[0m         \u001b[38;5;124m\"\u001b[39m\u001b[38;5;124mprogram\u001b[39m\u001b[38;5;124m\"\u001b[39m: \u001b[38;5;28mself\u001b[39m\u001b[38;5;241m.\u001b[39m_function\u001b[38;5;241m.\u001b[39mprogram\u001b[38;5;241m.\u001b[39mto_dict(),\n\u001b[1;32m     73\u001b[0m         \u001b[38;5;124m\"\u001b[39m\u001b[38;5;124mrequested_values\u001b[39m\u001b[38;5;124m\"\u001b[39m: [\u001b[38;5;28mself\u001b[39m\u001b[38;5;241m.\u001b[39m_index],\n\u001b[1;32m     74\u001b[0m     }\n\u001b[0;32m---> 75\u001b[0m     response \u001b[38;5;241m=\u001b[39m \u001b[43mquery_run_program\u001b[49m\u001b[43m(\u001b[49m\u001b[43mparams\u001b[49m\u001b[43m)\u001b[49m\n\u001b[1;32m     77\u001b[0m     response\u001b[38;5;241m.\u001b[39mraise_for_status()\n\u001b[1;32m     79\u001b[0m     \u001b[38;5;66;03m# update the cache\u001b[39;00m\n",
      "File \u001b[0;32m/usr/local/lib/python3.9/site-packages/llama/program/util/run_ai.py:12\u001b[0m, in \u001b[0;36mquery_run_program\u001b[0;34m(params)\u001b[0m\n\u001b[1;32m     10\u001b[0m \u001b[38;5;28;01mdef\u001b[39;00m \u001b[38;5;21mquery_run_program\u001b[39m(params):\n\u001b[1;32m     11\u001b[0m     key, url \u001b[38;5;241m=\u001b[39m get_url_and_key()\n\u001b[0;32m---> 12\u001b[0m     resp \u001b[38;5;241m=\u001b[39m \u001b[43mpowerml_send_query_to_url\u001b[49m\u001b[43m(\u001b[49m\u001b[43mparams\u001b[49m\u001b[43m,\u001b[49m\u001b[43m \u001b[49m\u001b[43murl\u001b[49m\u001b[43m,\u001b[49m\u001b[43m \u001b[49m\u001b[43mkey\u001b[49m\u001b[43m,\u001b[49m\u001b[43m \u001b[49m\u001b[38;5;124;43m\"\u001b[39;49m\u001b[38;5;124;43m/v1/llama/run_program\u001b[39;49m\u001b[38;5;124;43m\"\u001b[39;49m\u001b[43m)\u001b[49m\n\u001b[1;32m     13\u001b[0m     \u001b[38;5;28;01mreturn\u001b[39;00m resp\n",
      "File \u001b[0;32m/usr/local/lib/python3.9/site-packages/llama/program/util/run_ai.py:95\u001b[0m, in \u001b[0;36mpowerml_send_query_to_url\u001b[0;34m(params, url, key, route)\u001b[0m\n\u001b[1;32m     93\u001b[0m         description \u001b[38;5;241m=\u001b[39m response\u001b[38;5;241m.\u001b[39mstatus_code\n\u001b[1;32m     94\u001b[0m     \u001b[38;5;28;01mfinally\u001b[39;00m:\n\u001b[0;32m---> 95\u001b[0m         \u001b[38;5;28;01mraise\u001b[39;00m llama\u001b[38;5;241m.\u001b[39merror\u001b[38;5;241m.\u001b[39mAPIError(\u001b[38;5;124mf\u001b[39m\u001b[38;5;124m\"\u001b[39m\u001b[38;5;124mAPI error \u001b[39m\u001b[38;5;132;01m{\u001b[39;00mdescription\u001b[38;5;132;01m}\u001b[39;00m\u001b[38;5;124m\"\u001b[39m)\n\u001b[1;32m     96\u001b[0m \u001b[38;5;28;01mreturn\u001b[39;00m response\n",
      "\u001b[0;31mAPIError\u001b[0m: API error 500"
     ]
    }
   ],
   "source": [
    "from llama import LLM\n",
    "\n",
    "llm = LLM(name=\"generate_docs\", config=config)\n",
    "llm.add_data(functions)\n",
    "question = 'LLM.__init__'\n",
    "answer = llm(input=Question(question=question), output_type=Answer)"
   ]
  },
  {
   "cell_type": "code",
   "execution_count": null,
   "id": "b7f5b87c",
   "metadata": {},
   "outputs": [],
   "source": [
    "SEPARATOR = \"\\n\\n\"\n",
    "def get_function_docs(question, answer):\n",
    "    docstring = f\" # Function:{SEPARATOR}{question}{SEPARATOR}\"\n",
    "    docstring += f\"## Inputs:{SEPARATOR}\"\n",
    "    for input in answer.inputs:\n",
    "        docstring += f\"{input}{SEPARATOR}\"\n",
    "    docstring += f\"## Outputs:{SEPARATOR}\"\n",
    "    for output in answer.outputs:\n",
    "        docstring += f\"{output}{SEPARATOR}\"\n",
    "    docstring += f\"## Description:{SEPARATOR}{answer.description}\"\n",
    "    print(docstring)\n",
    "\n",
    "get_function_docs(question, answer)"
   ]
  }
 ],
 "metadata": {
  "kernelspec": {
   "display_name": "Python 3 (ipykernel)",
   "language": "python",
   "name": "python3"
  },
  "language_info": {
   "codemirror_mode": {
    "name": "ipython",
    "version": 3
   },
   "file_extension": ".py",
   "mimetype": "text/x-python",
   "name": "python",
   "nbconvert_exporter": "python",
   "pygments_lexer": "ipython3",
   "version": "3.9.16"
  }
 },
 "nbformat": 4,
 "nbformat_minor": 5
}
