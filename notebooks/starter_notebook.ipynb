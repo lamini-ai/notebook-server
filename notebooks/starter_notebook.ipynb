{
 "cells": [
  {
   "cell_type": "code",
   "execution_count": 1,
   "id": "4aabe86e",
   "metadata": {},
   "outputs": [],
   "source": [
    "import lamini"
   ]
  },
  {
   "cell_type": "code",
   "execution_count": 2,
   "id": "68bc1fe3",
   "metadata": {},
   "outputs": [],
   "source": [
    "lamini.api_url = \"https://app.lamini.ai\"\n",
    "lamini.api_key = \"test_token\""
   ]
  },
  {
   "cell_type": "code",
   "execution_count": 3,
   "id": "f57aafbc",
   "metadata": {},
   "outputs": [],
   "source": [
    "def make_llama_3_prompt(user, system=\"\"):\n",
    "    system_prompt = \"\"\n",
    "    if system != \"\":\n",
    "        system_prompt = (\n",
    "            f\"<|start_header_id|>system<|end_header_id|>\\n\\n{system}<|eot_id|>\"\n",
    "        )\n",
    "    return f\"<|begin_of_text|>{system_prompt}<|start_header_id|>user<|end_header_id|>\\n\\n{user}<|eot_id|><|start_header_id|>assistant<|end_header_id|>\\n\\n\"\n"
   ]
  },
  {
   "cell_type": "code",
   "execution_count": null,
   "id": "ae3f50a6",
   "metadata": {},
   "outputs": [],
   "source": [
    "api = lamini.Lamini(\"hf-internal-testing/tiny-random-gpt2\")\n",
    "answer = api.generate(make_llama_3_prompt(\"hi\"),max_new_tokens = 50)\n",
    "print(answer)"
   ]
  },
  {
   "cell_type": "code",
   "execution_count": null,
   "id": "3d597a9a-c802-46a6-8eda-93aab7671dbd",
   "metadata": {},
   "outputs": [],
   "source": []
  }
 ],
 "metadata": {
  "kernelspec": {
   "display_name": "Base Python",
   "language": "python",
   "name": "base"
  },
  "language_info": {
   "codemirror_mode": {
    "name": "ipython",
    "version": 3
   },
   "file_extension": ".py",
   "mimetype": "text/x-python",
   "name": "python",
   "nbconvert_exporter": "python",
   "pygments_lexer": "ipython3",
   "version": "3.10.8"
  }
 },
 "nbformat": 4,
 "nbformat_minor": 5
}
